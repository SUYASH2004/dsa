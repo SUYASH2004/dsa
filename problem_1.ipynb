{
  "nbformat": 4,
  "nbformat_minor": 0,
  "metadata": {
    "colab": {
      "provenance": [],
      "authorship_tag": "ABX9TyNgO/n0e6x3EhzduohaUFNv",
      "include_colab_link": true
    },
    "kernelspec": {
      "name": "python3",
      "display_name": "Python 3"
    },
    "language_info": {
      "name": "python"
    }
  },
  "cells": [
    {
      "cell_type": "markdown",
      "metadata": {
        "id": "view-in-github",
        "colab_type": "text"
      },
      "source": [
        "<a href=\"https://colab.research.google.com/github/SUYASH2004/dsa/blob/main/problem_1.ipynb\" target=\"_parent\"><img src=\"https://colab.research.google.com/assets/colab-badge.svg\" alt=\"Open In Colab\"/></a>"
      ]
    },
    {
      "cell_type": "markdown",
      "source": [
        "**Maximum Element in a List.**\n",
        "\n",
        "**Description:**\n",
        "Given a list of integers, write a function to find the maximum element in the list.\n",
        "\n",
        "**Input Parameters:**\n",
        "\n",
        "lst (List[int]): A list of integers.\n",
        "\n",
        "**Output:**\n",
        "\n",
        "int: The maximum element in the list.\n",
        "\n",
        "\n",
        "\n",
        "**Example**:\n",
        "\n",
        "Input: lst = [3, 5, 2, 9, 6]\n",
        "Output: 9\n",
        "\n",
        "Input: lst = [-1, -2, -3, -4]\n",
        "Output: -1\n",
        "\n",
        "Input: lst = [7]\n",
        "Output: 7\n"
      ],
      "metadata": {
        "id": "Yb1NiW5-k4c0"
      }
    },
    {
      "cell_type": "code",
      "source": [
        "def find_max_element(lst):\n",
        "    max_num = lst[0]\n",
        "    for num in lst:\n",
        "        if num > max_num:\n",
        "            max_num = num\n",
        "    return(max_num)\n",
        "\n"
      ],
      "metadata": {
        "id": "C_BQI9G5lO2y"
      },
      "execution_count": null,
      "outputs": []
    }
  ]
}