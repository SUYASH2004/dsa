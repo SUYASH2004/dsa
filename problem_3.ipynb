{
  "nbformat": 4,
  "nbformat_minor": 0,
  "metadata": {
    "colab": {
      "provenance": [],
      "authorship_tag": "ABX9TyO58q9ESGFnXLJDFP+oLE5Z",
      "include_colab_link": true
    },
    "kernelspec": {
      "name": "python3",
      "display_name": "Python 3"
    },
    "language_info": {
      "name": "python"
    }
  },
  "cells": [
    {
      "cell_type": "markdown",
      "metadata": {
        "id": "view-in-github",
        "colab_type": "text"
      },
      "source": [
        "<a href=\"https://colab.research.google.com/github/SUYASH2004/dsa/blob/main/problem_3.ipynb\" target=\"_parent\"><img src=\"https://colab.research.google.com/assets/colab-badge.svg\" alt=\"Open In Colab\"/></a>"
      ]
    },
    {
      "cell_type": "markdown",
      "source": [
        "**1. Two Sum (Leetcode problem - 1)**\n",
        "\n",
        "Given an array of integers nums and an integer target, return indices of the two numbers such that they add up to target.\n",
        "\n",
        "You may assume that each input would have exactly one solution, and you may not use the same element twice.\n",
        "\n",
        "You can return the answer in any order.\n",
        "\n",
        "\n",
        "\n",
        "**Example 1:**\n",
        "\n",
        "Input: nums = [2,7,11,15], target = 9\n",
        "Output: [0,1]\n",
        "Explanation: Because nums[0] + nums[1] == 9, we return [0, 1].\n",
        "**Example 2:**\n",
        "\n",
        "Input: nums = [3,2,4], target = 6\n",
        "Output: [1,2]\n",
        "**Example 3:**\n",
        "\n",
        "Input: nums = [3,3], target = 6\n",
        "Output: [0,1]\n",
        ""
      ],
      "metadata": {
        "id": "YgR8gh5D4D4L"
      }
    },
    {
      "cell_type": "code",
      "source": [
        "class Solution(object):\n",
        "    def twoSum(self, nums, target):\n",
        "        \"\"\"\n",
        "        :type nums: List[int]\n",
        "        :type target: int\n",
        "        :rtype: List[int]\n",
        "        \"\"\"\n",
        "        for i in range(len(nums)):  # Outer loop\n",
        "            for j in range(i + 1, len(nums)):  # Inner loop\n",
        "                 if nums[i] + nums[j] == target:\n",
        "                    return [i, j]\n",
        ""
      ],
      "metadata": {
        "id": "_JXwvh-v4Vwz"
      },
      "execution_count": null,
      "outputs": []
    }
  ]
}