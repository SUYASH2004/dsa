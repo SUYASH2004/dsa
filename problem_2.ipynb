{
  "nbformat": 4,
  "nbformat_minor": 0,
  "metadata": {
    "colab": {
      "provenance": [],
      "authorship_tag": "ABX9TyOZISmwx+TY0UcBE+utgRkU",
      "include_colab_link": true
    },
    "kernelspec": {
      "name": "python3",
      "display_name": "Python 3"
    },
    "language_info": {
      "name": "python"
    }
  },
  "cells": [
    {
      "cell_type": "markdown",
      "metadata": {
        "id": "view-in-github",
        "colab_type": "text"
      },
      "source": [
        "<a href=\"https://colab.research.google.com/github/SUYASH2004/dsa/blob/main/problem_2.ipynb\" target=\"_parent\"><img src=\"https://colab.research.google.com/assets/colab-badge.svg\" alt=\"Open In Colab\"/></a>"
      ]
    },
    {
      "cell_type": "markdown",
      "source": [
        "**Sum of Elements in a List**\n",
        "\n",
        "**Description:**\n",
        "Given a list of integers, write a function to find the sum of all the elements in the list.\n",
        "\n",
        "\n",
        "\n",
        "**Input Parameters**:\n",
        "\n",
        "lst (List[int]): A list of integers.\n",
        "\n",
        "**Output:**\n",
        "\n",
        "int: The sum of all the elements in the list.\n",
        "\n",
        "\n",
        "\n",
        "**Example:**\n",
        "\n",
        "Input: lst = [7]\n",
        "Output: 7\n",
        "\n",
        "Input: lst = [-1, -2, -3, -4]\n",
        "Output: -10\n",
        "\n",
        "Input: lst = [1, 2, 3, 4, 5]\n",
        "Output: 15"
      ],
      "metadata": {
        "id": "I6PP1CAB3g1_"
      }
    },
    {
      "cell_type": "code",
      "source": [
        "def sum_of_elements(lst):\n",
        "    total = 0\n",
        "    for sum in lst:\n",
        "        total = total + sum\n",
        "    return(total)\n",
        "\n",
        "\n",
        "    pass\n"
      ],
      "metadata": {
        "id": "-wHT2wK83www"
      },
      "execution_count": 1,
      "outputs": []
    }
  ]
}